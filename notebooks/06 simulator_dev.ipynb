{
 "cells": [
  {
   "cell_type": "markdown",
   "id": "8889e40b-071a-495b-97ba-9ff6741d2bcc",
   "metadata": {},
   "source": [
    "# Simulator Development \n",
    "This notebook prepares the final dataset for running the NBA Playoff Game Simulator by combining modeled playoff games, matchup data, and SVM model predictions.\n",
    "\n",
    "#### Build Simulator Dataset\n",
    "\n",
    "In this section, we integrate multiple sources (modeled games, playoff games, and SVM predictions) into a single simulator-ready dataset.  \n",
    "The resulting file `simulator_data.csv` will be used to power the playoff simulator application.\n",
    "\n",
    "##### Overview of Steps:\n",
    "\n",
    "1. **Load Data**: Read `all_modeled_playoff_games.csv`, `playoffs_games.csv`, `svm_predictions.csv` \n",
    "2. **Filter Season**: Keep only **2025 NBA playoff games** from the modeled dataset.\n",
    "3. **Remove Overlap Columns**: Drop metadata columns that already exist in the modeled dataset and keep only unique identifiers and matchup information (`gameId`, `season`, `homeTeam`, `awayTeam`).\n",
    "4. **Merge Data**: Combine matchup data with modeled playoff games and ensure no duplicate suffixes (`_x`, `_y`) are created.\n",
    "5. **Add Predictions**: Attach `true_label` and `predicted_label` from the SVM predictions file.  \n",
    "6. **Compute Winners**: Derive **predicted winner** based on model output and derive **actual winner** from ground truth labels."
   ]
  },
  {
   "cell_type": "code",
   "execution_count": 77,
   "id": "2bd648d4-4eeb-456a-b3ed-90737283b817",
   "metadata": {},
   "outputs": [],
   "source": [
    "import pandas as pd\n",
    "\n",
    "# Load all modeled playoff games, playoff games, and svm predictions files\n",
    "all_modeled_df = pd.read_csv(\"../data/processed/all_modeled_playoff_games.csv\")\n",
    "playoffs_games_df = pd.read_csv(\"../data/processed/playoffs_games.csv\")\n",
    "svm_predictions_df = pd.read_csv(\"../data/final/svm_predictions.csv\")\n",
    "\n",
    "# Filter only 2025 playoff games from all modeled playoff games\n",
    "df_2025 = all_modeled_df[all_modeled_df['season'] == 2025].copy()\n",
    "\n",
    "# Drop any columns from playoffs_games_df that already exist in df_2025\n",
    "overlap_cols = set(df_2025.columns) & set(playoffs_games_df.columns)\n",
    "meta_df = playoffs_games_df.drop(columns=overlap_cols - {\"gameId\", \"season\", \"homeTeam\", \"awayTeam\"})\n",
    "\n",
    "# Merge without creating _x/_y suffixes\n",
    "df_2025 = df_2025.merge(\n",
    "    meta_df,\n",
    "    on=[\"gameId\", \"season\", \"homeTeam\", \"awayTeam\"],\n",
    "    how=\"left\",\n",
    "    suffixes=(\"\", \"\"),\n",
    "    validate=\"one_to_one\"\n",
    ")\n",
    "\n",
    "# Add SVM predictions\n",
    "df_2025 = df_2025.reset_index(drop=True)\n",
    "svm_predictions_df = svm_predictions_df.reset_index(drop=True)\n",
    "\n",
    "df_2025[\"true_label\"] = svm_predictions_df[\"true_label\"]\n",
    "df_2025[\"predicted_label\"] = svm_predictions_df[\"predicted_label\"]\n",
    "\n",
    "# Add winners\n",
    "df_2025[\"predicted_winner\"] = df_2025.apply(\n",
    "    lambda row: row[\"homeTeam\"] if row[\"predicted_label\"] == 1 else row[\"awayTeam\"], axis=1\n",
    ")\n",
    "df_2025[\"actual_winner\"] = df_2025.apply(\n",
    "    lambda row: row[\"homeTeam\"] if row[\"true_label\"] == 1 else row[\"awayTeam\"], axis=1\n",
    ")\n",
    "\n",
    "# Export the final dataset\n",
    "df_2025.to_csv(\"../data/final/simulator_data.csv\", index=False)"
   ]
  },
  {
   "cell_type": "code",
   "execution_count": null,
   "id": "7f711832-3436-44f6-89f5-074c2739a249",
   "metadata": {},
   "outputs": [],
   "source": []
  }
 ],
 "metadata": {
  "kernelspec": {
   "display_name": "Python [conda env:base] *",
   "language": "python",
   "name": "conda-base-py"
  },
  "language_info": {
   "codemirror_mode": {
    "name": "ipython",
    "version": 3
   },
   "file_extension": ".py",
   "mimetype": "text/x-python",
   "name": "python",
   "nbconvert_exporter": "python",
   "pygments_lexer": "ipython3",
   "version": "3.12.7"
  }
 },
 "nbformat": 4,
 "nbformat_minor": 5
}
