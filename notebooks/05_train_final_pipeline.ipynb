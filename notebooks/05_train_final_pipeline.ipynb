{
 "cells": [
  {
   "cell_type": "markdown",
   "id": "a1283c48-3a07-4350-8ce2-4e972e0f63f7",
   "metadata": {},
   "source": [
    "# Final Inference Pipeline\n",
    "This step builds a **single, deployable pipeline** that bundles preprocessing (imputation, scaling, one-hot encoding) and a classifier (**SVM**).  \n",
    "It’s designed for the **simulator** so inference needs only one artifact: `final_pipeline_model.pkl`.\n",
    "\n",
    "#### Overview of Steps\n",
    "\n",
    "1. **Import Libraries**: Load `pandas` for data handling, scikit-learn transformers (`StandardScaler`, `OneHotEncoder`, `SimpleImputer`, `ColumnTransformer`), pipeline utilities, `SVC` for classification, and `joblib`/`os` for saving artifacts.\n",
    "2. **Load Dataset**: Read the merged modeling dataset `all_modeled_playoff_games.csv`.\n",
    "3. **Season-Based Split**: Create Train (2015–2022), Validation (2023–2024), and Test (2025 holdout) partitions.\n",
    "4. **Drop Non-Predictive Columns**: Remove identifiers that should not drive predictions (`homeTeam`, `awayTeam`, `gameDate`).\n",
    "5. **Separate Target and Features**: Target is `homeWin`; form `X_train/X_val/X_test` and `y_train/y_val/y_test`.\n",
    "6. **Identify Column Types**: Detect numeric vs. categorical feature lists to drive the transformers.\n",
    "7. **Build Preprocessing Pipeline**  \n",
    "   - **Numeric:** mean imputation → standard scaling  \n",
    "   - **Categorical:** one-hot encoding with `drop='first'` and `handle_unknown='ignore'`\n",
    "8. **Create Full Pipeline (Preprocess + Model)**: Chain the preprocessor with `SVC(kernel='rbf', C=1, probability=True, class_weight='balanced')` so training and inference run consistently.\n",
    "9. **Train Model**: Fit the full pipeline on the training split only.\n",
    "10. **Validate**: Predict on the validation split and print a `classification_report` (Accuracy, Precision, Recall, F1)."
   ]
  },
  {
   "cell_type": "code",
   "execution_count": 6,
   "id": "021e168d-bebc-4dc4-8adb-4c23d390b215",
   "metadata": {},
   "outputs": [
    {
     "name": "stdout",
     "output_type": "stream",
     "text": [
      "\n",
      "Validation Performance:\n",
      "              precision    recall  f1-score   support\n",
      "\n",
      "       False       0.49      0.72      0.59        68\n",
      "        True       0.72      0.49      0.58        98\n",
      "\n",
      "    accuracy                           0.58       166\n",
      "   macro avg       0.61      0.61      0.58       166\n",
      "weighted avg       0.63      0.58      0.58       166\n",
      "\n"
     ]
    },
    {
     "data": {
      "text/plain": [
       "['../model/final_pipeline_model.pkl']"
      ]
     },
     "execution_count": 6,
     "metadata": {},
     "output_type": "execute_result"
    }
   ],
   "source": [
    "# Import librariers\n",
    "import pandas as pd\n",
    "from sklearn.preprocessing import StandardScaler, OneHotEncoder\n",
    "from sklearn.compose import ColumnTransformer\n",
    "from sklearn.pipeline import Pipeline\n",
    "from sklearn.impute import SimpleImputer\n",
    "from sklearn.svm import SVC\n",
    "from sklearn.metrics import classification_report\n",
    "import joblib\n",
    "import os\n",
    "\n",
    "# Load all modeled playoff games dataset file\n",
    "df = pd.read_csv(\"../data/processed/all_modeled_playoff_games.csv\")\n",
    "\n",
    "# Train/Val/Test Split\n",
    "train_df = df[df['season'].between(2015, 2022)].copy()\n",
    "val_df   = df[df['season'].between(2023, 2024)].copy()\n",
    "test_df  = df[df['season'] == 2025].copy()\n",
    "\n",
    "\n",
    "# Drop Non-Predictive Columns\n",
    "columns_to_drop = ['homeTeam', 'awayTeam', 'gameDate']\n",
    "train_df.drop(columns=columns_to_drop, inplace=True, errors='ignore')\n",
    "val_df.drop(columns=columns_to_drop, inplace=True, errors='ignore')\n",
    "test_df.drop(columns=columns_to_drop, inplace=True, errors='ignore')\n",
    "\n",
    "# Separate Target and Features\n",
    "target = 'homeWin'\n",
    "\n",
    "y_train = train_df[target]\n",
    "X_train = train_df.drop(columns=[target])\n",
    "\n",
    "y_val = val_df[target]\n",
    "X_val = val_df.drop(columns=[target])\n",
    "\n",
    "y_test = test_df[target]\n",
    "X_test = test_df.drop(columns=[target])\n",
    "\n",
    "# Identify Numeric & Categorical Columns\n",
    "numeric_cols = X_train.select_dtypes(include=['int64', 'float64']).columns.tolist()\n",
    "categorical_cols = X_train.select_dtypes(include=['object', 'category']).columns.tolist()\n",
    "\n",
    "# Build Preprocessing Pipeline\n",
    "preprocessor = ColumnTransformer([\n",
    "    ('num', Pipeline([\n",
    "        ('imputer', SimpleImputer(strategy='mean')),\n",
    "        ('scaler', StandardScaler())\n",
    "    ]), numeric_cols),\n",
    "    \n",
    "    ('cat', OneHotEncoder(drop='first', handle_unknown='ignore'), categorical_cols)\n",
    "])\n",
    "\n",
    "# Create Full Pipeline (Preprocessing + Model)\n",
    "full_pipeline = Pipeline([\n",
    "    ('preprocessor', preprocessor),\n",
    "    ('classifier', SVC(kernel='rbf', C=1, probability=True, class_weight='balanced'))\n",
    "])\n",
    "\n",
    "# Train Model\n",
    "full_pipeline.fit(X_train, y_train)\n",
    "\n",
    "# Evaluate on Validation Set\n",
    "val_preds = full_pipeline.predict(X_val)\n",
    "print(\"\\nValidation Performance:\")\n",
    "print(classification_report(y_val, val_preds))\n",
    "\n",
    "# Save Final Pipeline\n",
    "os.makedirs(\"../model/\", exist_ok=True)\n",
    "joblib.dump(full_pipeline, \"../model/final_pipeline_model.pkl\")"
   ]
  },
  {
   "cell_type": "code",
   "execution_count": null,
   "id": "a9db78da-309a-46f2-8f72-714c8466aae5",
   "metadata": {},
   "outputs": [],
   "source": []
  }
 ],
 "metadata": {
  "kernelspec": {
   "display_name": "Python [conda env:base] *",
   "language": "python",
   "name": "conda-base-py"
  },
  "language_info": {
   "codemirror_mode": {
    "name": "ipython",
    "version": 3
   },
   "file_extension": ".py",
   "mimetype": "text/x-python",
   "name": "python",
   "nbconvert_exporter": "python",
   "pygments_lexer": "ipython3",
   "version": "3.12.7"
  }
 },
 "nbformat": 4,
 "nbformat_minor": 5
}
